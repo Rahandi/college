{
 "cells": [
  {
   "cell_type": "code",
   "execution_count": 1,
   "metadata": {},
   "outputs": [],
   "source": [
    "import json\n",
    "import pandas as pd\n",
    "from glob import glob"
   ]
  },
  {
   "cell_type": "code",
   "execution_count": 2,
   "metadata": {},
   "outputs": [],
   "source": [
    "lot = {}\n",
    "base_path = 'datasets/CNREXT/'\n",
    "images = glob(base_path + '*/*/*/*/*')\n",
    "csvs = glob(base_path + '*.csv')\n",
    "txts = glob(base_path + 'labels/camera*.txt')\n",
    "\n",
    "for i in range(len(txts)):\n",
    "    txt = txts[i]\n",
    "    txt_data = open(txt, 'r').read()\n",
    "    txt_data = txt_data.split('\\n')\n",
    "\n",
    "    for item in txt_data:\n",
    "        try:\n",
    "            path, label = item.split(' ')\n",
    "            weather, date, camera, name = path.split('/')\n",
    "            name = name.split('.jpg')[0]\n",
    "            _, name_date, name_time, _, slotId = name.split('_')\n",
    "            name_time = name_time.split('.')\n",
    "            name_time = ''.join(name_time)\n",
    "            true_name = name_date + '_' + name_time + '.jpg'\n",
    "            true_path = base_path + 'image/' + weather + '/' + date + '/' + camera + '/' + true_name\n",
    "\n",
    "            if true_path not in lot:\n",
    "                lot[true_path] = []\n",
    "            temp = {\n",
    "                'camera': str(int(camera.split('camera')[-1])-1),\n",
    "                'slotid': str(slotId), \n",
    "                'label': str(label)\n",
    "            }\n",
    "            lot[true_path].append(temp)\n",
    "        except:\n",
    "            pass\n",
    "\n",
    "coord = {}\n",
    "for i in range(len(csvs)):\n",
    "    csv = csvs[i]\n",
    "    csv_data = pd.read_csv(csv)\n",
    "\n",
    "    coord[str(i)] = {}\n",
    "\n",
    "    for j in range(len(csv_data)):\n",
    "        slotId = str(csv_data.iloc[j]['SlotId'])\n",
    "        x = int(csv_data.iloc[j]['X'])\n",
    "        y = int(csv_data.iloc[j]['Y'])\n",
    "        w = int(csv_data.iloc[j]['W'])\n",
    "        h = int(csv_data.iloc[j]['H'])\n",
    "        coord[str(i)][slotId] = {\n",
    "            \"x\": x, \n",
    "            \"y\": y, \n",
    "            \"w\": w, \n",
    "            \"h\": h,\n",
    "            'x1': int(x * 1000/2592),\n",
    "            'y1': int(y * 750/1944),\n",
    "            'x2': int((x + w) * 1000/2592),\n",
    "            'y2': int((y + h) * 750/1944)\n",
    "        }"
   ]
  },
  {
   "cell_type": "code",
   "execution_count": 3,
   "metadata": {},
   "outputs": [
    {
     "name": "stderr",
     "output_type": "stream",
     "text": [
      "Using TensorFlow backend.\n"
     ]
    },
    {
     "name": "stdout",
     "output_type": "stream",
     "text": [
      "\n",
      "Configurations:\n",
      "BACKBONE                       resnet101\n",
      "BACKBONE_STRIDES               [4, 8, 16, 32, 64]\n",
      "BATCH_SIZE                     1\n",
      "BBOX_STD_DEV                   [0.1 0.1 0.2 0.2]\n",
      "COMPUTE_BACKBONE_SHAPE         None\n",
      "DETECTION_MAX_INSTANCES        100\n",
      "DETECTION_MIN_CONFIDENCE       0.7\n",
      "DETECTION_NMS_THRESHOLD        0.3\n",
      "FPN_CLASSIF_FC_LAYERS_SIZE     1024\n",
      "GPU_COUNT                      1\n",
      "GRADIENT_CLIP_NORM             5.0\n",
      "IMAGES_PER_GPU                 1\n",
      "IMAGE_CHANNEL_COUNT            3\n",
      "IMAGE_MAX_DIM                  1024\n",
      "IMAGE_META_SIZE                93\n",
      "IMAGE_MIN_DIM                  800\n",
      "IMAGE_MIN_SCALE                0\n",
      "IMAGE_RESIZE_MODE              square\n",
      "IMAGE_SHAPE                    [1024 1024    3]\n",
      "LEARNING_MOMENTUM              0.9\n",
      "LEARNING_RATE                  0.001\n",
      "LOSS_WEIGHTS                   {'rpn_class_loss': 1.0, 'rpn_bbox_loss': 1.0, 'mrcnn_class_loss': 1.0, 'mrcnn_bbox_loss': 1.0, 'mrcnn_mask_loss': 1.0}\n",
      "MASK_POOL_SIZE                 14\n",
      "MASK_SHAPE                     [28, 28]\n",
      "MAX_GT_INSTANCES               100\n",
      "MEAN_PIXEL                     [123.7 116.8 103.9]\n",
      "MINI_MASK_SHAPE                (56, 56)\n",
      "NAME                           coco\n",
      "NUM_CLASSES                    81\n",
      "POOL_SIZE                      7\n",
      "POST_NMS_ROIS_INFERENCE        1000\n",
      "POST_NMS_ROIS_TRAINING         2000\n",
      "PRE_NMS_LIMIT                  6000\n",
      "ROI_POSITIVE_RATIO             0.33\n",
      "RPN_ANCHOR_RATIOS              [0.5, 1, 2]\n",
      "RPN_ANCHOR_SCALES              (32, 64, 128, 256, 512)\n",
      "RPN_ANCHOR_STRIDE              1\n",
      "RPN_BBOX_STD_DEV               [0.1 0.1 0.2 0.2]\n",
      "RPN_NMS_THRESHOLD              0.7\n",
      "RPN_TRAIN_ANCHORS_PER_IMAGE    256\n",
      "STEPS_PER_EPOCH                1000\n",
      "TOP_DOWN_PYRAMID_SIZE          256\n",
      "TRAIN_BN                       False\n",
      "TRAIN_ROIS_PER_IMAGE           200\n",
      "USE_MINI_MASK                  True\n",
      "USE_RPN_ROIS                   True\n",
      "VALIDATION_STEPS               50\n",
      "WEIGHT_DECAY                   0.0001\n",
      "\n",
      "\n",
      "WARNING:tensorflow:From c:\\programdata\\anaconda3\\envs\\ta\\lib\\site-packages\\keras\\backend\\tensorflow_backend.py:517: The name tf.placeholder is deprecated. Please use tf.compat.v1.placeholder instead.\n",
      "\n",
      "WARNING:tensorflow:From c:\\programdata\\anaconda3\\envs\\ta\\lib\\site-packages\\keras\\backend\\tensorflow_backend.py:74: The name tf.get_default_graph is deprecated. Please use tf.compat.v1.get_default_graph instead.\n",
      "\n",
      "WARNING:tensorflow:From c:\\programdata\\anaconda3\\envs\\ta\\lib\\site-packages\\keras\\backend\\tensorflow_backend.py:4138: The name tf.random_uniform is deprecated. Please use tf.random.uniform instead.\n",
      "\n",
      "WARNING:tensorflow:From c:\\programdata\\anaconda3\\envs\\ta\\lib\\site-packages\\keras\\backend\\tensorflow_backend.py:1919: The name tf.nn.fused_batch_norm is deprecated. Please use tf.compat.v1.nn.fused_batch_norm instead.\n",
      "\n",
      "WARNING:tensorflow:From c:\\programdata\\anaconda3\\envs\\ta\\lib\\site-packages\\keras\\backend\\tensorflow_backend.py:3976: The name tf.nn.max_pool is deprecated. Please use tf.nn.max_pool2d instead.\n",
      "\n",
      "WARNING:tensorflow:From c:\\programdata\\anaconda3\\envs\\ta\\lib\\site-packages\\keras\\backend\\tensorflow_backend.py:2018: The name tf.image.resize_nearest_neighbor is deprecated. Please use tf.compat.v1.image.resize_nearest_neighbor instead.\n",
      "\n",
      "WARNING:tensorflow:From D:\\kuliah\\TA\\ta_mask_rcnn\\mrcnn\\model.py:341: The name tf.log is deprecated. Please use tf.math.log instead.\n",
      "\n",
      "WARNING:tensorflow:From D:\\kuliah\\TA\\ta_mask_rcnn\\mrcnn\\model.py:399: where (from tensorflow.python.ops.array_ops) is deprecated and will be removed in a future version.\n",
      "Instructions for updating:\n",
      "Use tf.where in 2.0, which has the same broadcast rule as np.where\n",
      "WARNING:tensorflow:From D:\\kuliah\\TA\\ta_mask_rcnn\\mrcnn\\model.py:423: calling crop_and_resize_v1 (from tensorflow.python.ops.image_ops_impl) with box_ind is deprecated and will be removed in a future version.\n",
      "Instructions for updating:\n",
      "box_ind is deprecated, use box_indices instead\n",
      "WARNING:tensorflow:From D:\\kuliah\\TA\\ta_mask_rcnn\\mrcnn\\model.py:720: The name tf.sets.set_intersection is deprecated. Please use tf.sets.intersection instead.\n",
      "\n",
      "WARNING:tensorflow:From D:\\kuliah\\TA\\ta_mask_rcnn\\mrcnn\\model.py:722: The name tf.sparse_tensor_to_dense is deprecated. Please use tf.sparse.to_dense instead.\n",
      "\n",
      "WARNING:tensorflow:From D:\\kuliah\\TA\\ta_mask_rcnn\\mrcnn\\model.py:772: to_float (from tensorflow.python.ops.math_ops) is deprecated and will be removed in a future version.\n",
      "Instructions for updating:\n",
      "Use `tf.cast` instead.\n",
      "WARNING:tensorflow:From c:\\programdata\\anaconda3\\envs\\ta\\lib\\site-packages\\keras\\backend\\tensorflow_backend.py:174: The name tf.get_default_session is deprecated. Please use tf.compat.v1.get_default_session instead.\n",
      "\n",
      "WARNING:tensorflow:From c:\\programdata\\anaconda3\\envs\\ta\\lib\\site-packages\\keras\\backend\\tensorflow_backend.py:181: The name tf.ConfigProto is deprecated. Please use tf.compat.v1.ConfigProto instead.\n",
      "\n",
      "WARNING:tensorflow:From c:\\programdata\\anaconda3\\envs\\ta\\lib\\site-packages\\keras\\backend\\tensorflow_backend.py:186: The name tf.Session is deprecated. Please use tf.compat.v1.Session instead.\n",
      "\n",
      "WARNING:tensorflow:From c:\\programdata\\anaconda3\\envs\\ta\\lib\\site-packages\\keras\\backend\\tensorflow_backend.py:190: The name tf.global_variables is deprecated. Please use tf.compat.v1.global_variables instead.\n",
      "\n",
      "WARNING:tensorflow:From c:\\programdata\\anaconda3\\envs\\ta\\lib\\site-packages\\keras\\backend\\tensorflow_backend.py:199: The name tf.is_variable_initialized is deprecated. Please use tf.compat.v1.is_variable_initialized instead.\n",
      "\n",
      "WARNING:tensorflow:From c:\\programdata\\anaconda3\\envs\\ta\\lib\\site-packages\\keras\\backend\\tensorflow_backend.py:206: The name tf.variables_initializer is deprecated. Please use tf.compat.v1.variables_initializer instead.\n",
      "\n"
     ]
    }
   ],
   "source": [
    "import mrcnn.model as modellib\n",
    "from samples.coco import coco\n",
    "from cv2 import cv2\n",
    "from tqdm import tqdm\n",
    "from sklearn.metrics import classification_report\n",
    "\n",
    "class InferenceConfig(coco.CocoConfig):\n",
    "    GPU_COUNT = 1\n",
    "    IMAGES_PER_GPU = 1\n",
    "\n",
    "config = InferenceConfig()\n",
    "config.display()\n",
    "model = modellib.MaskRCNN(mode = \"inference\", model_dir = 'logs/', config = config)\n",
    "model.load_weights('mask_rcnn_coco.h5', by_name = True)\n",
    "class_names = ['BG', 'person', 'bicycle', 'car', 'motorcycle', 'airplane', \n",
    "               'bus', 'train', 'truck', 'boat', 'traffic light', \n",
    "               'fire hydrant', 'stop sign', 'parking meter', 'bench', 'bird', \n",
    "               'cat', 'dog', 'horse', 'sheep', 'cow', 'elephant', 'bear', \n",
    "               'zebra', 'giraffe', 'backpack', 'umbrella', 'handbag', 'tie', \n",
    "               'suitcase', 'frisbee', 'skis', 'snowboard', 'sports ball', \n",
    "               'kite', 'baseball bat', 'baseball glove', 'skateboard', \n",
    "               'surfboard', 'tennis racket', 'bottle', 'wine glass', 'cup', \n",
    "               'fork', 'knife', 'spoon', 'bowl', 'banana', 'apple', \n",
    "               'sandwich', 'orange', 'broccoli', 'carrot', 'hot dog', 'pizza', \n",
    "               'donut', 'cake', 'chair', 'couch', 'potted plant', 'bed', \n",
    "               'dining table', 'toilet', 'tv', 'laptop', 'mouse', 'remote', \n",
    "               'keyboard', 'cell phone', 'microwave', 'oven', 'toaster', \n",
    "               'sink', 'refrigerator', 'book', 'clock', 'vase', 'scissors', \n",
    "               'teddy bear', 'hair drier', 'toothbrush']"
   ]
  },
  {
   "cell_type": "code",
   "execution_count": 4,
   "metadata": {},
   "outputs": [],
   "source": [
    "true = {}\n",
    "detected = {}\n",
    "report = {}"
   ]
  },
  {
   "cell_type": "code",
   "execution_count": 7,
   "metadata": {},
   "outputs": [
    {
     "name": "stderr",
     "output_type": "stream",
     "text": [
      "\r",
      "  0%|                                                                                                                                        | 0/4081 [00:00<?, ?it/s]"
     ]
    },
    {
     "name": "stdout",
     "output_type": "stream",
     "text": [
      "camera1\n"
     ]
    },
    {
     "name": "stderr",
     "output_type": "stream",
     "text": [
      "100%|█████████████████████████████████████████████████████████████████████████████████████████████████████████████████████████████| 4081/4081 [04:47<00:00, 14.18it/s]\n",
      "  0%|                                                                                                                                        | 0/4081 [00:00<?, ?it/s]"
     ]
    },
    {
     "name": "stdout",
     "output_type": "stream",
     "text": [
      "{'0': {'precision': 0.5550587410135016, 'recall': 0.9881379740908381, 'f1-score': 0.710829169707517, 'support': 6407}, '1': {'precision': 0.982362497099095, 'recall': 0.4547700902449506, 'f1-score': 0.6217228464419476, 'support': 9308}, 'accuracy': 0.6722239898186446, 'macro avg': {'precision': 0.7687106190562982, 'recall': 0.7214540321678944, 'f1-score': 0.6662760080747323, 'support': 15715}, 'weighted avg': {'precision': 0.8081509052925154, 'recall': 0.6722239898186446, 'f1-score': 0.6580514632515246, 'support': 15715}}\n",
      "camera2\n"
     ]
    },
    {
     "name": "stderr",
     "output_type": "stream",
     "text": [
      "100%|█████████████████████████████████████████████████████████████████████████████████████████████████████████████████████████████| 4081/4081 [04:18<00:00, 15.79it/s]\n",
      "  0%|                                                                                                                                        | 0/4081 [00:00<?, ?it/s]"
     ]
    },
    {
     "name": "stdout",
     "output_type": "stream",
     "text": [
      "{'0': {'precision': 0.6289473684210526, 'recall': 0.9862448418156808, 'f1-score': 0.7680771290840922, 'support': 1454}, '1': {'precision': 0.9889807162534435, 'recall': 0.6796667928814842, 'f1-score': 0.8056552962298025, 'support': 2641}, 'accuracy': 0.7885225885225885, 'macro avg': {'precision': 0.8089640423372481, 'recall': 0.8329558173485825, 'f1-score': 0.7868662126569473, 'support': 4095}, 'weighted avg': {'precision': 0.8611446997092931, 'recall': 0.7885225885225885, 'f1-score': 0.792312523328737, 'support': 4095}}\n",
      "camera3\n"
     ]
    },
    {
     "name": "stderr",
     "output_type": "stream",
     "text": [
      "100%|█████████████████████████████████████████████████████████████████████████████████████████████████████████████████████████████| 4081/4081 [04:22<00:00, 15.57it/s]\n",
      "  0%|                                                                                                                                        | 0/4081 [00:00<?, ?it/s]"
     ]
    },
    {
     "name": "stdout",
     "output_type": "stream",
     "text": [
      "{'0': {'precision': 0.6438809261300992, 'recall': 0.9968300414533041, 'f1-score': 0.7823923444976076, 'support': 4101}, '1': {'precision': 0.99583600256246, 'recall': 0.5789571694599628, 'f1-score': 0.7322185586434292, 'support': 5370}, 'accuracy': 0.7598986379474184, 'macro avg': {'precision': 0.8198584643462796, 'recall': 0.7878936054566335, 'f1-score': 0.7573054515705184, 'support': 9471}, 'weighted avg': {'precision': 0.8434373362707156, 'recall': 0.7598986379474184, 'f1-score': 0.7539441098827899, 'support': 9471}}\n",
      "camera4\n"
     ]
    },
    {
     "name": "stderr",
     "output_type": "stream",
     "text": [
      "100%|█████████████████████████████████████████████████████████████████████████████████████████████████████████████████████████████| 4081/4081 [04:29<00:00, 15.17it/s]\n",
      "  0%|                                                                                                                                        | 0/4081 [00:00<?, ?it/s]"
     ]
    },
    {
     "name": "stdout",
     "output_type": "stream",
     "text": [
      "{'0': {'precision': 0.693373088390882, 'recall': 0.99861476658817, 'f1-score': 0.8184604904632151, 'support': 7219}, '1': {'precision': 0.9983816151480822, 'recall': 0.6592925082825692, 'f1-score': 0.7941555097837281, 'support': 9357}, 'accuracy': 0.8070704633204633, 'macro avg': {'precision': 0.8458773517694821, 'recall': 0.8289536374353697, 'f1-score': 0.8063080001234716, 'support': 16576}, 'weighted avg': {'precision': 0.8655476048524603, 'recall': 0.8070704633204633, 'f1-score': 0.8047405517435022, 'support': 16576}}\n",
      "camera5\n"
     ]
    },
    {
     "name": "stderr",
     "output_type": "stream",
     "text": [
      "100%|█████████████████████████████████████████████████████████████████████████████████████████████████████████████████████████████| 4081/4081 [04:40<00:00, 14.54it/s]\n",
      "  0%|                                                                                                                                        | 0/4081 [00:00<?, ?it/s]"
     ]
    },
    {
     "name": "stdout",
     "output_type": "stream",
     "text": [
      "{'0': {'precision': 0.757201646090535, 'recall': 0.9985389271550824, 'f1-score': 0.8612836438923395, 'support': 9582}, '1': {'precision': 0.9982930992440868, 'recall': 0.7274342572850035, 'f1-score': 0.8416075650118203, 'support': 11256}, 'accuracy': 0.8520971302428256, 'macro avg': {'precision': 0.8777473726673108, 'recall': 0.862986592220043, 'f1-score': 0.85144560445208, 'support': 20838}, 'weighted avg': {'precision': 0.8874312936908988, 'recall': 0.8520971302428256, 'f1-score': 0.8506552753406972, 'support': 20838}}\n",
      "camera6\n"
     ]
    },
    {
     "name": "stderr",
     "output_type": "stream",
     "text": [
      "100%|█████████████████████████████████████████████████████████████████████████████████████████████████████████████████████████████| 4081/4081 [04:41<00:00, 14.50it/s]\n",
      "  0%|                                                                                                                                        | 0/4081 [00:00<?, ?it/s]"
     ]
    },
    {
     "name": "stdout",
     "output_type": "stream",
     "text": [
      "{'0': {'precision': 0.7629539951573849, 'recall': 0.9990488268864933, 'f1-score': 0.8651839648544756, 'support': 9462}, '1': {'precision': 0.9988338947913967, 'recall': 0.724121735863235, 'f1-score': 0.8395774341102156, 'support': 10646}, 'accuracy': 0.8534911478018699, 'macro avg': {'precision': 0.8808939449743909, 'recall': 0.8615852813748641, 'f1-score': 0.8523806994823455, 'support': 20108}, 'weighted avg': {'precision': 0.8878384894633173, 'recall': 0.8534911478018699, 'f1-score': 0.8516268171369805, 'support': 20108}}\n",
      "camera7\n"
     ]
    },
    {
     "name": "stderr",
     "output_type": "stream",
     "text": [
      "100%|█████████████████████████████████████████████████████████████████████████████████████████████████████████████████████████████| 4081/4081 [04:40<00:00, 14.54it/s]\n",
      "  0%|                                                                                                                                        | 0/4081 [00:00<?, ?it/s]"
     ]
    },
    {
     "name": "stdout",
     "output_type": "stream",
     "text": [
      "{'0': {'precision': 0.7770677244013515, 'recall': 0.9984898537045777, 'f1-score': 0.8739724895699946, 'support': 10595}, '1': {'precision': 0.9978666666666667, 'recall': 0.7114744747599582, 'f1-score': 0.8306787280093235, 'support': 10519}, 'accuracy': 0.8554987212276215, 'macro avg': {'precision': 0.8874671955340091, 'recall': 0.8549821642322679, 'f1-score': 0.8523256087896591, 'support': 21114}, 'weighted avg': {'precision': 0.8870698118167559, 'recall': 0.8554987212276215, 'f1-score': 0.8524035268979904, 'support': 21114}}\n",
      "camera8\n"
     ]
    },
    {
     "name": "stderr",
     "output_type": "stream",
     "text": [
      "100%|█████████████████████████████████████████████████████████████████████████████████████████████████████████████████████████████| 4081/4081 [04:38<00:00, 14.65it/s]\n",
      "  0%|                                                                                                                                        | 0/4081 [00:00<?, ?it/s]"
     ]
    },
    {
     "name": "stdout",
     "output_type": "stream",
     "text": [
      "{'0': {'precision': 0.7511233317684931, 'recall': 0.9967073062205215, 'f1-score': 0.8566620774055378, 'support': 11237}, '1': {'precision': 0.9959664231985174, 'recall': 0.7111387872655095, 'f1-score': 0.8297910990009082, 'support': 12847}, 'accuracy': 0.8443780102972928, 'macro avg': {'precision': 0.8735448774835053, 'recall': 0.8539230467430154, 'f1-score': 0.843226588203223, 'support': 24084}, 'weighted avg': {'precision': 0.8817286795347081, 'recall': 0.8443780102972928, 'f1-score': 0.8423284343410851, 'support': 24084}}\n",
      "camera9\n"
     ]
    },
    {
     "name": "stderr",
     "output_type": "stream",
     "text": [
      "100%|█████████████████████████████████████████████████████████████████████████████████████████████████████████████████████████████| 4081/4081 [04:37<00:00, 14.71it/s]"
     ]
    },
    {
     "name": "stdout",
     "output_type": "stream",
     "text": [
      "{'0': {'precision': 0.7683211879554517, 'recall': 0.9976789858953758, 'f1-score': 0.8681062606804412, 'support': 5601}, '1': {'precision': 0.9977156914426287, 'recall': 0.771153062610349, 'f1-score': 0.8699249272253714, 'support': 7363}, 'accuracy': 0.869021906818883, 'macro avg': {'precision': 0.8830184396990401, 'recall': 0.8844160242528625, 'f1-score': 0.8690155939529063, 'support': 12964}, 'weighted avg': {'precision': 0.8986074984441963, 'recall': 0.869021906818883, 'f1-score': 0.8691391858401388, 'support': 12964}}\n"
     ]
    },
    {
     "name": "stderr",
     "output_type": "stream",
     "text": [
      "\n"
     ]
    }
   ],
   "source": [
    "\n",
    "for k in range(1,10):\n",
    "    \n",
    "    print('camera{}'.format(k))\n",
    "    true[k] = []\n",
    "    detected[k] = []\n",
    "\n",
    "    for key, value in tqdm(lot.items()):\n",
    "        if ('camera{}'.format(k)) in key:\n",
    "            image = cv2.imread(key)\n",
    "            # image = cv2.resize(image, (2592, 1944))\n",
    "            result = model.detect([image])\n",
    "            result = result[0]\n",
    "\n",
    "\n",
    "            for item in value:\n",
    "                coordinate = coord[item['camera']][item['slotid']]\n",
    "                x1 = coordinate['x1']\n",
    "                y1 = coordinate['y1']\n",
    "                x2 = coordinate['x2']\n",
    "                y2 = coordinate['y2']\n",
    "                x = coordinate['x']\n",
    "                y = coordinate['y']\n",
    "                label = item['label']\n",
    "\n",
    "                # cv2.rectangle(image, (x1, y1), (x2, y2), (255,255,255), 2)\n",
    "                marker = 0\n",
    "\n",
    "                for i in range(len(result['rois'])):\n",
    "                    if class_names[result['class_ids'][i]] == 'car':\n",
    "                        y1_roi, x1_roi, y2_roi, x2_roi = result['rois'][i]\n",
    "                        x = int((x1_roi + x2_roi) / 2)\n",
    "                        y = int((y1_roi + y2_roi) / 2)\n",
    "\n",
    "                        # cv2.circle(image, (x, y), 3, (255,255,255), 2)\n",
    "\n",
    "                        if x1 < x < x2 and y1 < y < y2:\n",
    "                            marker = 1\n",
    "                            break\n",
    "\n",
    "                true[k].append(int(label))\n",
    "                detected[k].append(marker)\n",
    "\n",
    "            # cv2.imshow('image', image)\n",
    "            # cv2.waitKey(0)\n",
    "\n",
    "    report[k] = classification_report(true[k], detected[k], output_dict=True)\n",
    "    print(report[k])"
   ]
  },
  {
   "cell_type": "code",
   "execution_count": 6,
   "metadata": {},
   "outputs": [
    {
     "name": "stderr",
     "output_type": "stream",
     "text": [
      "\r",
      "  0%|                                                                                                                                        | 0/4081 [00:00<?, ?it/s]"
     ]
    },
    {
     "name": "stdout",
     "output_type": "stream",
     "text": [
      "SUNNY\n"
     ]
    },
    {
     "name": "stderr",
     "output_type": "stream",
     "text": [
      "100%|█████████████████████████████████████████████████████████████████████████████████████████████████████████████████████████████| 4081/4081 [17:46<00:00,  3.83it/s]\n",
      "  0%|                                                                                                                                        | 0/4081 [00:00<?, ?it/s]"
     ]
    },
    {
     "name": "stdout",
     "output_type": "stream",
     "text": [
      "{'0': {'precision': 0.6297364593348618, 'recall': 0.995285408143386, 'f1-score': 0.7713957842604336, 'support': 25665}, '1': {'precision': 0.9946495688702189, 'recall': 0.5996321275291232, 'f1-score': 0.748203831825439, 'support': 37513}, 'accuracy': 0.7603596188546646, 'macro avg': {'precision': 0.8121930141025404, 'recall': 0.7974587678362546, 'f1-score': 0.7597998080429363, 'support': 63178}, 'weighted avg': {'precision': 0.8464097550707169, 'recall': 0.7603596188546646, 'f1-score': 0.7576251724700327, 'support': 63178}}\n",
      "OVERCAST\n"
     ]
    },
    {
     "name": "stderr",
     "output_type": "stream",
     "text": [
      "100%|█████████████████████████████████████████████████████████████████████████████████████████████████████████████████████████████| 4081/4081 [12:48<00:00,  5.31it/s]\n",
      "  0%|                                                                                                                                        | 0/4081 [00:00<?, ?it/s]"
     ]
    },
    {
     "name": "stdout",
     "output_type": "stream",
     "text": [
      "{'0': {'precision': 0.7865833114962753, 'recall': 0.9973892818151612, 'f1-score': 0.8795311845960654, 'support': 21067}, '1': {'precision': 0.9968625213918996, 'recall': 0.7540127718329306, 'f1-score': 0.8585957844052473, 'support': 23176}, 'accuracy': 0.8699003232149719, 'macro avg': {'precision': 0.8917229164440874, 'recall': 0.8757010268240459, 'f1-score': 0.8690634845006564, 'support': 44243}, 'weighted avg': {'precision': 0.8967347697730873, 'recall': 0.8699003232149719, 'f1-score': 0.8685645043342748, 'support': 44243}}\n",
      "RAINY\n"
     ]
    },
    {
     "name": "stderr",
     "output_type": "stream",
     "text": [
      "100%|█████████████████████████████████████████████████████████████████████████████████████████████████████████████████████████████| 4081/4081 [10:37<00:00,  6.40it/s]"
     ]
    },
    {
     "name": "stdout",
     "output_type": "stream",
     "text": [
      "{'0': {'precision': 0.78790658882402, 'recall': 0.9983092042692592, 'f1-score': 0.8807159837784925, 'support': 18926}, '1': {'precision': 0.9976408139191979, 'recall': 0.7268235041357826, 'f1-score': 0.8409670001864397, 'support': 18618}, 'accuracy': 0.8636799488600042, 'macro avg': {'precision': 0.8927737013716089, 'recall': 0.8625663542025208, 'f1-score': 0.8608414919824661, 'support': 37544}, 'weighted avg': {'precision': 0.8919134022382013, 'recall': 0.8636799488600042, 'f1-score': 0.8610045365028469, 'support': 37544}}\n"
     ]
    },
    {
     "name": "stderr",
     "output_type": "stream",
     "text": [
      "\n"
     ]
    }
   ],
   "source": [
    "for k in ['SUNNY', 'OVERCAST', 'RAINY']:\n",
    "    print('{}'.format(k))\n",
    "    true[k] = []\n",
    "    detected[k] = []\n",
    "\n",
    "    for key, value in tqdm(lot.items()):\n",
    "        if ('{}'.format(k)) in key:\n",
    "            image = cv2.imread(key)\n",
    "            # image = cv2.resize(image, (2592, 1944))\n",
    "            result = model.detect([image])\n",
    "            result = result[0]\n",
    "\n",
    "\n",
    "            for item in value:\n",
    "                coordinate = coord[item['camera']][item['slotid']]\n",
    "                x1 = coordinate['x1']\n",
    "                y1 = coordinate['y1']\n",
    "                x2 = coordinate['x2']\n",
    "                y2 = coordinate['y2']\n",
    "                x = coordinate['x']\n",
    "                y = coordinate['y']\n",
    "                label = item['label']\n",
    "\n",
    "                # cv2.rectangle(image, (x1, y1), (x2, y2), (255,255,255), 2)\n",
    "                marker = 0\n",
    "\n",
    "                for i in range(len(result['rois'])):\n",
    "                    if class_names[result['class_ids'][i]] == 'car':\n",
    "                        y1_roi, x1_roi, y2_roi, x2_roi = result['rois'][i]\n",
    "                        x = int((x1_roi + x2_roi) / 2)\n",
    "                        y = int((y1_roi + y2_roi) / 2)\n",
    "\n",
    "                        # cv2.circle(image, (x, y), 3, (255,255,255), 2)\n",
    "\n",
    "                        if x1 < x < x2 and y1 < y < y2:\n",
    "                            marker = 1\n",
    "                            break\n",
    "\n",
    "                true[k].append(int(label))\n",
    "                detected[k].append(marker)\n",
    "\n",
    "            # cv2.imshow('image', image)\n",
    "            # cv2.waitKey(0)\n",
    "\n",
    "    report[k] = classification_report(true[k], detected[k], output_dict=True)\n",
    "    print(report[k])"
   ]
  },
  {
   "cell_type": "code",
   "execution_count": 8,
   "metadata": {},
   "outputs": [
    {
     "name": "stdout",
     "output_type": "stream",
     "text": [
      "{'all': {'0': {'precision': 0.7172131147540983, 'recall': 0.9968320692071034, 'f1-score': 0.8342149202748002, 'support': 65658}, '1': {'precision': 0.9961272784821911, 'recall': 0.674606276873416, 'f1-score': 0.8044295423106994, 'support': 79307}, 'accuracy': 0.820549787879833, 'macro avg': {'precision': 0.8566701966181447, 'recall': 0.8357191730402598, 'f1-score': 0.8193222312927497, 'support': 144965}, 'weighted avg': {'precision': 0.8698006054089726, 'recall': 0.820549787879833, 'f1-score': 0.8179200286099229, 'support': 144965}}, 'SUNNY': {'0': {'precision': 0.6297364593348618, 'recall': 0.995285408143386, 'f1-score': 0.7713957842604336, 'support': 25665}, '1': {'precision': 0.9946495688702189, 'recall': 0.5996321275291232, 'f1-score': 0.748203831825439, 'support': 37513}, 'accuracy': 0.7603596188546646, 'macro avg': {'precision': 0.8121930141025404, 'recall': 0.7974587678362546, 'f1-score': 0.7597998080429363, 'support': 63178}, 'weighted avg': {'precision': 0.8464097550707169, 'recall': 0.7603596188546646, 'f1-score': 0.7576251724700327, 'support': 63178}}, 'OVERCAST': {'0': {'precision': 0.7865833114962753, 'recall': 0.9973892818151612, 'f1-score': 0.8795311845960654, 'support': 21067}, '1': {'precision': 0.9968625213918996, 'recall': 0.7540127718329306, 'f1-score': 0.8585957844052473, 'support': 23176}, 'accuracy': 0.8699003232149719, 'macro avg': {'precision': 0.8917229164440874, 'recall': 0.8757010268240459, 'f1-score': 0.8690634845006564, 'support': 44243}, 'weighted avg': {'precision': 0.8967347697730873, 'recall': 0.8699003232149719, 'f1-score': 0.8685645043342748, 'support': 44243}}, 'RAINY': {'0': {'precision': 0.78790658882402, 'recall': 0.9983092042692592, 'f1-score': 0.8807159837784925, 'support': 18926}, '1': {'precision': 0.9976408139191979, 'recall': 0.7268235041357826, 'f1-score': 0.8409670001864397, 'support': 18618}, 'accuracy': 0.8636799488600042, 'macro avg': {'precision': 0.8927737013716089, 'recall': 0.8625663542025208, 'f1-score': 0.8608414919824661, 'support': 37544}, 'weighted avg': {'precision': 0.8919134022382013, 'recall': 0.8636799488600042, 'f1-score': 0.8610045365028469, 'support': 37544}}, 1: {'0': {'precision': 0.5550587410135016, 'recall': 0.9881379740908381, 'f1-score': 0.710829169707517, 'support': 6407}, '1': {'precision': 0.982362497099095, 'recall': 0.4547700902449506, 'f1-score': 0.6217228464419476, 'support': 9308}, 'accuracy': 0.6722239898186446, 'macro avg': {'precision': 0.7687106190562982, 'recall': 0.7214540321678944, 'f1-score': 0.6662760080747323, 'support': 15715}, 'weighted avg': {'precision': 0.8081509052925154, 'recall': 0.6722239898186446, 'f1-score': 0.6580514632515246, 'support': 15715}}, 2: {'0': {'precision': 0.6289473684210526, 'recall': 0.9862448418156808, 'f1-score': 0.7680771290840922, 'support': 1454}, '1': {'precision': 0.9889807162534435, 'recall': 0.6796667928814842, 'f1-score': 0.8056552962298025, 'support': 2641}, 'accuracy': 0.7885225885225885, 'macro avg': {'precision': 0.8089640423372481, 'recall': 0.8329558173485825, 'f1-score': 0.7868662126569473, 'support': 4095}, 'weighted avg': {'precision': 0.8611446997092931, 'recall': 0.7885225885225885, 'f1-score': 0.792312523328737, 'support': 4095}}, 3: {'0': {'precision': 0.6438809261300992, 'recall': 0.9968300414533041, 'f1-score': 0.7823923444976076, 'support': 4101}, '1': {'precision': 0.99583600256246, 'recall': 0.5789571694599628, 'f1-score': 0.7322185586434292, 'support': 5370}, 'accuracy': 0.7598986379474184, 'macro avg': {'precision': 0.8198584643462796, 'recall': 0.7878936054566335, 'f1-score': 0.7573054515705184, 'support': 9471}, 'weighted avg': {'precision': 0.8434373362707156, 'recall': 0.7598986379474184, 'f1-score': 0.7539441098827899, 'support': 9471}}, 4: {'0': {'precision': 0.693373088390882, 'recall': 0.99861476658817, 'f1-score': 0.8184604904632151, 'support': 7219}, '1': {'precision': 0.9983816151480822, 'recall': 0.6592925082825692, 'f1-score': 0.7941555097837281, 'support': 9357}, 'accuracy': 0.8070704633204633, 'macro avg': {'precision': 0.8458773517694821, 'recall': 0.8289536374353697, 'f1-score': 0.8063080001234716, 'support': 16576}, 'weighted avg': {'precision': 0.8655476048524603, 'recall': 0.8070704633204633, 'f1-score': 0.8047405517435022, 'support': 16576}}, 5: {'0': {'precision': 0.757201646090535, 'recall': 0.9985389271550824, 'f1-score': 0.8612836438923395, 'support': 9582}, '1': {'precision': 0.9982930992440868, 'recall': 0.7274342572850035, 'f1-score': 0.8416075650118203, 'support': 11256}, 'accuracy': 0.8520971302428256, 'macro avg': {'precision': 0.8777473726673108, 'recall': 0.862986592220043, 'f1-score': 0.85144560445208, 'support': 20838}, 'weighted avg': {'precision': 0.8874312936908988, 'recall': 0.8520971302428256, 'f1-score': 0.8506552753406972, 'support': 20838}}, 6: {'0': {'precision': 0.7629539951573849, 'recall': 0.9990488268864933, 'f1-score': 0.8651839648544756, 'support': 9462}, '1': {'precision': 0.9988338947913967, 'recall': 0.724121735863235, 'f1-score': 0.8395774341102156, 'support': 10646}, 'accuracy': 0.8534911478018699, 'macro avg': {'precision': 0.8808939449743909, 'recall': 0.8615852813748641, 'f1-score': 0.8523806994823455, 'support': 20108}, 'weighted avg': {'precision': 0.8878384894633173, 'recall': 0.8534911478018699, 'f1-score': 0.8516268171369805, 'support': 20108}}, 7: {'0': {'precision': 0.7770677244013515, 'recall': 0.9984898537045777, 'f1-score': 0.8739724895699946, 'support': 10595}, '1': {'precision': 0.9978666666666667, 'recall': 0.7114744747599582, 'f1-score': 0.8306787280093235, 'support': 10519}, 'accuracy': 0.8554987212276215, 'macro avg': {'precision': 0.8874671955340091, 'recall': 0.8549821642322679, 'f1-score': 0.8523256087896591, 'support': 21114}, 'weighted avg': {'precision': 0.8870698118167559, 'recall': 0.8554987212276215, 'f1-score': 0.8524035268979904, 'support': 21114}}, 8: {'0': {'precision': 0.7511233317684931, 'recall': 0.9967073062205215, 'f1-score': 0.8566620774055378, 'support': 11237}, '1': {'precision': 0.9959664231985174, 'recall': 0.7111387872655095, 'f1-score': 0.8297910990009082, 'support': 12847}, 'accuracy': 0.8443780102972928, 'macro avg': {'precision': 0.8735448774835053, 'recall': 0.8539230467430154, 'f1-score': 0.843226588203223, 'support': 24084}, 'weighted avg': {'precision': 0.8817286795347081, 'recall': 0.8443780102972928, 'f1-score': 0.8423284343410851, 'support': 24084}}, 9: {'0': {'precision': 0.7683211879554517, 'recall': 0.9976789858953758, 'f1-score': 0.8681062606804412, 'support': 5601}, '1': {'precision': 0.9977156914426287, 'recall': 0.771153062610349, 'f1-score': 0.8699249272253714, 'support': 7363}, 'accuracy': 0.869021906818883, 'macro avg': {'precision': 0.8830184396990401, 'recall': 0.8844160242528625, 'f1-score': 0.8690155939529063, 'support': 12964}, 'weighted avg': {'precision': 0.8986074984441963, 'recall': 0.869021906818883, 'f1-score': 0.8691391858401388, 'support': 12964}}}\n"
     ]
    }
   ],
   "source": [
    "print(report)"
   ]
  },
  {
   "cell_type": "code",
   "execution_count": 16,
   "metadata": {},
   "outputs": [
    {
     "name": "stdout",
     "output_type": "stream",
     "text": [
      "[76.03596188546646, 86.36799488600042, 86.9900323214972]\n"
     ]
    }
   ],
   "source": [
    "temp = [\n",
    "    report['SUNNY']['accuracy'] * 100,\n",
    "    report['RAINY']['accuracy'] * 100,\n",
    "    report['OVERCAST']['accuracy'] * 100\n",
    "]\n",
    "print(temp)"
   ]
  },
  {
   "cell_type": "code",
   "execution_count": null,
   "metadata": {},
   "outputs": [
    {
     "evalue": "Error: Failed to connect to Jupyter notebook. \r\nhttp://localhost:8889/\r\nError: Invalid response: 500 Internal Server Error",
     "output_type": "error"
    }
   ],
   "source": [
    "import matplotlib.pyplot as plt\n",
    "%matplotlib inline\n",
    "plt.style.use('ggplot')\n",
    "\n",
    "plt.bar(range(3), temp)\n",
    "plt.xlabel(\"Cuaca\")\n",
    "plt.ylabel('Akurasi')\n",
    "plt.xticks(range(3), ['cerah', 'hujan', 'berawan'])\n",
    "\n",
    "for i, v in enumerate(temp):\n",
    "    plt.text(i-.125, 1, '{:.2f}'.format(v))\n",
    "\n",
    "plt.show()"
   ]
  },
  {
   "cell_type": "code",
   "execution_count": 45,
   "metadata": {},
   "outputs": [
    {
     "name": "stdout",
     "output_type": "stream",
     "text": [
      "[67.22239898186446, 78.85225885225886, 75.98986379474184, 80.70704633204633, 85.20971302428256, 85.34911478018698, 85.54987212276215, 84.43780102972927, 86.9021906818883]\n"
     ]
    }
   ],
   "source": [
    "camera_acc = [report[i]['accuracy'] * 100 for i in range(1, 10)]\n",
    "print(camera_acc)"
   ]
  },
  {
   "cell_type": "code",
   "execution_count": 59,
   "metadata": {},
   "outputs": [
    {
     "data": {
      "image/png": "[encoded data removed]",
      "text/plain": [
       "<Figure size 432x288 with 1 Axes>"
      ]
     },
     "metadata": {},
     "output_type": "display_data"
    }
   ],
   "source": [
    "plt.bar(range(len(camera_acc)), camera_acc)\n",
    "plt.xlabel(\"Lahan Parkir\")\n",
    "plt.ylabel('Akurasi')\n",
    "plt.xticks(range(len(camera_acc)), range(1,10))\n",
    "\n",
    "for i, v in enumerate(camera_acc):\n",
    "    plt.text(i-.40, 1, '{:.2f}'.format(v))\n",
    "\n",
    "plt.show()"
   ]
  },
  {
   "cell_type": "code",
   "execution_count": 5,
   "metadata": {},
   "outputs": [
    {
     "name": "stderr",
     "output_type": "stream",
     "text": [
      "\r",
      "  0%|                                                                                                                                        | 0/4081 [00:00<?, ?it/s]"
     ]
    },
    {
     "name": "stdout",
     "output_type": "stream",
     "text": [
      "All\n"
     ]
    },
    {
     "name": "stderr",
     "output_type": "stream",
     "text": [
      "100%|█████████████████████████████████████████████████████████████████████████████████████████████████████████████████████████████| 4081/4081 [41:08<00:00,  1.65it/s]"
     ]
    },
    {
     "name": "stdout",
     "output_type": "stream",
     "text": [
      "{'0': {'precision': 0.7172131147540983, 'recall': 0.9968320692071034, 'f1-score': 0.8342149202748002, 'support': 65658}, '1': {'precision': 0.9961272784821911, 'recall': 0.674606276873416, 'f1-score': 0.8044295423106994, 'support': 79307}, 'accuracy': 0.820549787879833, 'macro avg': {'precision': 0.8566701966181447, 'recall': 0.8357191730402598, 'f1-score': 0.8193222312927497, 'support': 144965}, 'weighted avg': {'precision': 0.8698006054089726, 'recall': 0.820549787879833, 'f1-score': 0.8179200286099229, 'support': 144965}}\n"
     ]
    },
    {
     "name": "stderr",
     "output_type": "stream",
     "text": [
      "\n"
     ]
    }
   ],
   "source": [
    "print('{}'.format('All'))\n",
    "true['all'] = []\n",
    "detected['all'] = []\n",
    "\n",
    "for key, value in tqdm(lot.items()):\n",
    "    image = cv2.imread(key)\n",
    "    # image = cv2.resize(image, (2592, 1944))\n",
    "    result = model.detect([image])\n",
    "    result = result[0]\n",
    "\n",
    "\n",
    "    for item in value:\n",
    "        coordinate = coord[item['camera']][item['slotid']]\n",
    "        x1 = coordinate['x1']\n",
    "        y1 = coordinate['y1']\n",
    "        x2 = coordinate['x2']\n",
    "        y2 = coordinate['y2']\n",
    "        x = coordinate['x']\n",
    "        y = coordinate['y']\n",
    "        label = item['label']\n",
    "\n",
    "        # cv2.rectangle(image, (x1, y1), (x2, y2), (255,255,255), 2)\n",
    "        marker = 0\n",
    "\n",
    "        for i in range(len(result['rois'])):\n",
    "            if class_names[result['class_ids'][i]] == 'car':\n",
    "                y1_roi, x1_roi, y2_roi, x2_roi = result['rois'][i]\n",
    "                x = int((x1_roi + x2_roi) / 2)\n",
    "                y = int((y1_roi + y2_roi) / 2)\n",
    "\n",
    "                # cv2.circle(image, (x, y), 3, (255,255,255), 2)\n",
    "\n",
    "                if x1 < x < x2 and y1 < y < y2:\n",
    "                    marker = 1\n",
    "                    break\n",
    "\n",
    "        true['all'].append(int(label))\n",
    "        detected['all'].append(marker)\n",
    "\n",
    "    # cv2.imshow('image', image)\n",
    "    # cv2.waitKey(0)\n",
    "\n",
    "report['all'] = classification_report(true['all'], detected['all'], output_dict=True)\n",
    "print(report['all'])"
   ]
  },
  {
   "cell_type": "code",
   "execution_count": null,
   "metadata": {},
   "outputs": [],
   "source": [
    "acc = [85.43, 98.85]\n",
    "\n",
    "plt.bar(range(len(acc)), acc)\n",
    "plt.xlabel(\"Lahan Parkir\")\n",
    "plt.ylabel('Akurasi')\n",
    "plt.xticks(range(len(acc)), range(1,10))\n",
    "\n",
    "for i, v in enumerate(acc):\n",
    "    plt.text(i-.40, 1, '{:.2f}'.format(v))\n",
    "\n",
    "plt.show()"
   ]
  },
  {
   "cell_type": "code",
   "execution_count": null,
   "metadata": {},
   "outputs": [],
   "source": []
  }
 ],
 "metadata": {
  "kernelspec": {
   "display_name": "Python 3",
   "language": "python",
   "name": "python3"
  },
  "language_info": {
   "codemirror_mode": {
    "name": "ipython",
    "version": 3
   },
   "file_extension": ".py",
   "mimetype": "text/x-python",
   "name": "python",
   "nbconvert_exporter": "python",
   "pygments_lexer": "ipython3",
   "version": "3.7.5"
  }
 },
 "nbformat": 4,
 "nbformat_minor": 2
}